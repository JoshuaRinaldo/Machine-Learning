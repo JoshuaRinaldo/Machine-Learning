{
 "cells": [
  {
   "cell_type": "code",
   "execution_count": 1,
   "metadata": {},
   "outputs": [],
   "source": [
    "import numpy as np\n",
    "import pandas as pd\n",
    "import networkx as nx\n",
    "import matplotlib.pyplot as plt"
   ]
  },
  {
   "cell_type": "code",
   "execution_count": null,
   "metadata": {},
   "outputs": [],
   "source": [
    "#I decided to load all of the files then turn them into csvs. I prefer to work with csvs because\n",
    "#they are more human read-able than JSON. Csvs are also slightly more efficient\n",
    "\n",
    "df = pd.read_json(r'D:\\Code Data\\data analytics assignment 3\\dblp-ref\\dblp-ref-0.json', lines = True)\n",
    "df.to_csv(r'D:\\Code Data\\data analytics assignment 3\\dblp-ref\\dblp-ref-0.csv', index = None)\n",
    "df = pd.read_json(r'D:\\Code Data\\data analytics assignment 3\\dblp-ref\\dblp-ref-1.json', lines = True)\n",
    "df.to_csv(r'D:\\Code Data\\data analytics assignment 3\\dblp-ref\\dblp-ref-1.csv', index = None)\n",
    "df = pd.read_json(r'D:\\Code Data\\data analytics assignment 3\\dblp-ref\\dblp-ref-2.json', lines = True)\n",
    "df.to_csv(r'D:\\Code Data\\data analytics assignment 3\\dblp-ref\\dblp-ref-2.csv', index = None)\n",
    "df = pd.read_json(r'D:\\Code Data\\data analytics assignment 3\\dblp-ref\\dblp-ref-3.json', lines = True)\n",
    "df.to_csv(r'D:\\Code Data\\data analytics assignment 3\\dblp-ref\\dblp-ref-3.csv', index = None)"
   ]
  },
  {
   "cell_type": "code",
   "execution_count": 3,
   "metadata": {},
   "outputs": [],
   "source": [
    "db0 = pd.read_csv(r'D:\\Code Data\\data analytics assignment 3\\dblp-ref\\dblp-ref-0.csv')\n",
    "db1 = pd.read_csv(r'D:\\Code Data\\data analytics assignment 3\\dblp-ref\\dblp-ref-1.csv')\n",
    "db2 = pd.read_csv(r'D:\\Code Data\\data analytics assignment 3\\dblp-ref\\dblp-ref-2.csv')\n",
    "db3 = pd.read_csv(r'D:\\Code Data\\data analytics assignment 3\\dblp-ref\\dblp-ref-3.csv')"
   ]
  },
  {
   "cell_type": "code",
   "execution_count": 4,
   "metadata": {},
   "outputs": [],
   "source": [
    "#I'm interested in earlier works, so I will cut off all data from after 2005\n",
    "\n",
    "db0 = db0[(db0[\"year\"]) < 1980]\n",
    "db1 = db1[(db1[\"year\"]) < 1980]\n",
    "db2 = db2[(db2[\"year\"]) < 1980]\n",
    "db3 = db3[(db3[\"year\"]) < 1980]"
   ]
  },
  {
   "cell_type": "code",
   "execution_count": 5,
   "metadata": {},
   "outputs": [
    {
     "name": "stdout",
     "output_type": "stream",
     "text": [
      "9075 14151 4056 233\n"
     ]
    }
   ],
   "source": [
    "print(len(db0),len(db1),len(db2),len(db3)) #total length of each filtered dataframe"
   ]
  },
  {
   "cell_type": "code",
   "execution_count": 8,
   "metadata": {},
   "outputs": [],
   "source": [
    "total_dataframe = pd.concat((db0,db1,db2,db3), ignore_index = True)"
   ]
  },
  {
   "cell_type": "code",
   "execution_count": null,
   "metadata": {},
   "outputs": [],
   "source": [
    "total_dataframe.to_csv(r'D:\\Code Data\\data analytics assignment 3\\dblp-ref\\total_csv.csv', index = None)"
   ]
  },
  {
   "cell_type": "markdown",
   "metadata": {},
   "source": [
    "# Alright!\n",
    "#### Now we're finished all of the boring stuff. We can actually start analyzing the data. I can also start from this block when running the code (after importing the packages, of course).\n",
    "\n",
    "\n",
    "#### I think I will use a paper as a node, and citation  relationships as edges. I'm less interested in the relationship between authors and references than papers themselves (though, because authors tend to stick to their field, these should not look much different)."
   ]
  },
  {
   "cell_type": "code",
   "execution_count": 2,
   "metadata": {},
   "outputs": [],
   "source": [
    "df_ = pd.read_csv(r'D:\\Code Data\\data analytics assignment 3\\dblp-ref\\total_csv.csv')"
   ]
  },
  {
   "cell_type": "markdown",
   "metadata": {},
   "source": [
    "#### Looks like our data has some None entries as well as some empty lists. No problem, we can work around that in a function with a couple drops."
   ]
  },
  {
   "cell_type": "code",
   "execution_count": 3,
   "metadata": {},
   "outputs": [],
   "source": [
    "Dataframe = pd.DataFrame()\n",
    "Dataframe['id'] = df_['id']\n",
    "Dataframe['references'] = df_['references']\n",
    "Dataframe = Dataframe.dropna()\n",
    "\n",
    "#graph = nx.from_pandas_edgelist(Dataframe, 'id', 'references', create_using=nx.DiGraph())"
   ]
  },
  {
   "cell_type": "code",
   "execution_count": 4,
   "metadata": {},
   "outputs": [],
   "source": [
    "id_arr = np.array(Dataframe['id'])\n",
    "ref_arr = np.array(Dataframe['references'])"
   ]
  },
  {
   "cell_type": "code",
   "execution_count": 5,
   "metadata": {},
   "outputs": [],
   "source": [
    "#first we create our graph\n",
    "graph = nx.Graph()\n",
    "#then we define nodes\n",
    "for node in id_arr:\n",
    "    graph.add_node(node)\n",
    "#that part was easy\n",
    "\n",
    "#now we define edges\n",
    "for n in range(len(id_arr)):\n",
    "    node = id_arr[n]\n",
    "    edges = ref_arr[n]\n",
    "    for edge in edges.split(','):\n",
    "        #there is a lot of messyness. What should be a list of edges come in string\n",
    "        #format, so we need to split the string then clean up the remaining\n",
    "        #artifacts of its previous strin format\n",
    "        edge = edge.strip('[]')\n",
    "        edge = edge.strip(' ')\n",
    "        edge = edge.replace(\"'\",\"\")\n",
    "        \n",
    "        #now we simply add the edge\n",
    "        if edge != str(): #band-aid solution to a problem where some edges were empty\n",
    "            graph.add_edge(node,edge)"
   ]
  },
  {
   "cell_type": "markdown",
   "metadata": {},
   "source": [
    "#### and now we have our graph!\n",
    "# Question 2"
   ]
  },
  {
   "cell_type": "code",
   "execution_count": 39,
   "metadata": {},
   "outputs": [],
   "source": [
    "largest_subgraph = graph.subgraph(max(nx.connected_components(graph.to_undirected()),key = len)).to_undirected()"
   ]
  },
  {
   "cell_type": "code",
   "execution_count": 41,
   "metadata": {
    "scrolled": true
   },
   "outputs": [
    {
     "name": "stdout",
     "output_type": "stream",
     "text": [
      "diameter: 27\n",
      "radius: 14\n",
      "density: 0.00019369902199160862\n",
      "nodes: 22910\n",
      "edges: 50831\n",
      "average degree: 0.4507092128819028\n"
     ]
    }
   ],
   "source": [
    "print(f\"diameter: {nx.diameter(largest_subgraph)}\")\n",
    "print(f\"radius: {nx.radius(largest_subgraph)}\")\n",
    "print(f\"density: {nx.density(graph)}\")\n",
    "print(f\"nodes: {len(graph.nodes)}\")\n",
    "print(f\"edges: {len(graph.edges)}\")\n",
    "print(f\"average degree: {len(graph.nodes)/len(graph.edges)}\")"
   ]
  },
  {
   "cell_type": "markdown",
   "metadata": {},
   "source": [
    "### Next we will plot our histogram\n",
    "\n",
    "#### I checked the graph and found that there were many 1 degree points. It looked like it could be a pareto distribution (which would call for a log-log plot), but I decided to check if the distribution was different if I elimnated 1 degree datapoints and plot both."
   ]
  },
  {
   "cell_type": "code",
   "execution_count": 8,
   "metadata": {},
   "outputs": [
    {
     "data": {
      "image/png": "[encoded data removed]",
      "text/plain": [
       "<Figure size 720x504 with 2 Axes>"
      ]
     },
     "metadata": {
      "needs_background": "light"
     },
     "output_type": "display_data"
    }
   ],
   "source": [
    "degree_list = []\n",
    "for degree in list(graph.degree):\n",
    "    degree_list.append(degree[1]) #appends the degree\n",
    "\n",
    "degree_not_1 = []\n",
    "for degree in degree_list:\n",
    "    if degree != 1: #appends the degree if it isn't 1\n",
    "        degree_not_1.append(degree)\n",
    "\n",
    "\n",
    "fig, axs = plt.subplots(1, 2, tight_layout=True)\n",
    "fig.set_size_inches(10, 7)\n",
    "# We can set the number of bins with the `bins` kwarg\n",
    "axs[0].hist(degree_list, color = \"skyblue\", ec=\"k\")\n",
    "axs[1].hist(degree_not_1, color = \"skyblue\", ec=\"k\")\n",
    "plt.xlabel(\"Degree\")\n",
    "plt.ylabel(\"Count\")\n",
    "axs[0].set_title(\"Distribution of Degrees\")\n",
    "axs[0].set_xlabel(\"Degree\")\n",
    "axs[0].set_ylabel(\"Count\")\n",
    "axs[1].set_title(\"Distribution of Degrees Excluding 1\")\n",
    "axs[1].set_xlabel(\"Degree\")\n",
    "axs[1].set_ylabel(\"Count\")\n",
    "plt.show()"
   ]
  },
  {
   "cell_type": "markdown",
   "metadata": {},
   "source": [
    "### Examining this plot, we can see pretty clearly that we will want a log-log plot. Including 1 degree results in an extreme pareto distribution. I tested to see if removing 1 made the distribution less extreme, but it didn't do so to a degree that I found satisfying."
   ]
  },
  {
   "cell_type": "code",
   "execution_count": 9,
   "metadata": {},
   "outputs": [],
   "source": [
    "#I needed to make this because some degrees were 0, which caused me to get -inf,\n",
    "#which obviously doesn't plot very well\n",
    "def zero_or_log(list_):\n",
    "    all_vals = []\n",
    "    for val in list_:\n",
    "        if val == 0:\n",
    "            all_vals.append(0)\n",
    "        else:\n",
    "            all_vals.append(np.log(val))\n",
    "    return all_vals"
   ]
  },
  {
   "cell_type": "code",
   "execution_count": 10,
   "metadata": {},
   "outputs": [
    {
     "data": {
      "image/png": "[encoded data removed]",
      "text/plain": [
       "<Figure size 576x720 with 1 Axes>"
      ]
     },
     "metadata": {
      "needs_background": "light"
     },
     "output_type": "display_data"
    }
   ],
   "source": [
    "plt.figure(figsize=(8, 10))\n",
    "# We can set the number of bins with the `bins` kwarg\n",
    "plt.hist(zero_or_log(degree_list),log = True, color = \"skyblue\", ec=\"k\")\n",
    "plt.xlabel(\"Degree\")\n",
    "plt.ylabel(\"Count\")\n",
    "plt.title(\"Distribution of Degrees\")\n",
    "plt.xlabel(\"log(Degree)\")\n",
    "plt.ylabel(\"Count\")\n",
    "plt.show()"
   ]
  },
  {
   "cell_type": "markdown",
   "metadata": {},
   "source": [
    "## This histogram is looking much more linear."
   ]
  },
  {
   "cell_type": "code",
   "execution_count": 11,
   "metadata": {},
   "outputs": [],
   "source": [
    "degree_centrality = nx.degree_centrality(graph)"
   ]
  },
  {
   "cell_type": "code",
   "execution_count": 12,
   "metadata": {},
   "outputs": [],
   "source": [
    "centrality_values = list(degree_centrality.values())\n",
    "id_ = list(degree_centrality.keys())"
   ]
  },
  {
   "cell_type": "code",
   "execution_count": 13,
   "metadata": {},
   "outputs": [
    {
     "name": "stdout",
     "output_type": "stream",
     "text": [
      "Here is our most central node  04f16960-42b0-4f58-a1ff-23844582c40c\n"
     ]
    }
   ],
   "source": [
    "print(\"Here is our most central node \",id_[0])"
   ]
  },
  {
   "cell_type": "code",
   "execution_count": 14,
   "metadata": {},
   "outputs": [
    {
     "name": "stdout",
     "output_type": "stream",
     "text": [
      "The paper which has the highest degreee centrality has the ID  e930195e-baa4-4d42-9d5f-e042fcaf5a9e and it has a degree centrality of  0.013007988126937011\n"
     ]
    }
   ],
   "source": [
    "max_id = id_[centrality_values.index(max(centrality_values))]\n",
    "print(\"The paper which has the highest degreee centrality has the ID \",max_id, \"and it has a\"\n",
    "      ,\"degree centrality of \",degree_centrality[max_id])"
   ]
  },
  {
   "cell_type": "markdown",
   "metadata": {},
   "source": [
    "#### I am going to do this for the top 5."
   ]
  },
  {
   "cell_type": "code",
   "execution_count": 15,
   "metadata": {},
   "outputs": [],
   "source": [
    "max_vals = []\n",
    "for n in range(5):\n",
    "    centrality_values = list(degree_centrality.values())\n",
    "    id_ = list(degree_centrality.keys())\n",
    "    max_n = centrality_values.index(max(centrality_values))\n",
    "    max_id_n = id_[max_n]\n",
    "    del degree_centrality[max_id_n]\n",
    "    max_vals.append(max_id_n)\n",
    "    \n",
    "degree_centrality = nx.degree_centrality(graph)"
   ]
  },
  {
   "cell_type": "code",
   "execution_count": 16,
   "metadata": {},
   "outputs": [
    {
     "name": "stdout",
     "output_type": "stream",
     "text": [
      "these are the top five centrality values\n",
      "0.013007988126937011 which is  298 connections. This is attributed to the paper ID  e930195e-baa4-4d42-9d5f-e042fcaf5a9e\n",
      "0.012484176524510017 which is  286 connections. This is attributed to the paper ID  fa0b4274-c58c-464c-9e29-dc87e62b414f\n",
      "0.01187306298834519 which is  272 connections. This is attributed to the paper ID  a662a4e7-415e-417e-8a8f-fe085d7e487f\n",
      "0.00859924047317648 which is  197 connections. This is attributed to the paper ID  172f9f68-8417-43bb-8fe5-b377d569f6b6\n",
      "0.00746431533458466 which is  171 connections. This is attributed to the paper ID  b0f6455a-6f99-42c5-8502-4fa535768ceb\n"
     ]
    }
   ],
   "source": [
    "print(\"these are the top five centrality values\")\n",
    "nodes = len(graph.nodes)\n",
    "for n in range(5):\n",
    "    print(degree_centrality[max_vals[n]], \"which is \",int(nodes*degree_centrality[max_vals[n]]),\n",
    "          \"connections. This is attributed to the paper ID \",max_vals[n])"
   ]
  },
  {
   "cell_type": "code",
   "execution_count": 17,
   "metadata": {},
   "outputs": [
    {
     "name": "stdout",
     "output_type": "stream",
     "text": [
      "This value should be equal to 286: 286\n"
     ]
    }
   ],
   "source": [
    "#let's just do a quick check\n",
    "print(\"This value should be equal to 286:\",len(graph['fa0b4274-c58c-464c-9e29-dc87e62b414f']))"
   ]
  },
  {
   "cell_type": "markdown",
   "metadata": {},
   "source": [
    "#### Looks good. Let's take a look at the betweenness of these nodes. I would suspect highly central nodes to be somewhat well connected. I'll compare the betweenness of these nodes to the betweenness of 5 random nodes"
   ]
  },
  {
   "cell_type": "code",
   "execution_count": 18,
   "metadata": {},
   "outputs": [
    {
     "name": "stdout",
     "output_type": "stream",
     "text": [
      "betweenness of highly_central node:  3\n",
      "betweenness of highly_central node with random nodes:  6\n",
      "betweenness of highly_central node:  2\n",
      "betweenness of highly_central node with random nodes:  4\n",
      "betweenness of highly_central node:  2\n",
      "betweenness of highly_central node with random nodes:  4\n",
      "betweenness of highly_central node:  2\n",
      "betweenness of highly_central node with random nodes:  5\n",
      "betweenness of highly_central node:  3\n",
      "betweenness of highly_central node with random nodes:  4\n"
     ]
    }
   ],
   "source": [
    "node_list = list(graph.nodes)\n",
    "import random as rd #for random index vals\n",
    "\n",
    "random_nodes = []\n",
    "for n in range(5):\n",
    "    rand = rd.randint(0,len(node_list))\n",
    "    random_nodes.append(node_list[rand]) #appends random node\n",
    "    \n",
    "\n",
    "for n in range(5):\n",
    "    id_ = max_vals[n]\n",
    "    temp_other_ids = max_vals[0:n]+max_vals[n+1:] #removes element from list without mutation\n",
    "    print(\"betweenness of highly_central node: \",round(sum((nx.betweenness_centrality_subset(graph,[id_],temp_other_ids)).values())))   #so we can make use of same list later\n",
    "    print(\"betweenness of highly_central node with random nodes: \",round(sum((nx.betweenness_centrality_subset(graph,[id_],random_nodes)).values())))"
   ]
  },
  {
   "cell_type": "markdown",
   "metadata": {},
   "source": [
    "#### The betweenness of highly central nodes is typically lower than random nodes. This means that the paths of a highly central node to other highly central nodes is less likely to require an intermediate node. In other words, the highly central nodes are less likely have other nodes betwen them and are thus \"closer\" together.\n",
    "\n",
    "\n",
    "#### Next, I am going to do an eigenvector centrality analysis. This allows us to get (what I think is) a more honest look at the relevance of a node. I would expect to see a similar distribution to the degree centrality analysis, but we may see different nodes at the top. We will take a look at the top five from degree centrality and the top five from eigenvector centrality and compare their IDs."
   ]
  },
  {
   "cell_type": "code",
   "execution_count": 19,
   "metadata": {},
   "outputs": [
    {
     "data": {
      "image/png": "[encoded data removed]",
      "text/plain": [
       "<Figure size 576x720 with 1 Axes>"
      ]
     },
     "metadata": {
      "needs_background": "light"
     },
     "output_type": "display_data"
    }
   ],
   "source": [
    "eigenvec_cen = (nx.eigenvector_centrality(graph)).values()\n",
    "\n",
    "plt.figure(figsize=(8, 10))\n",
    "# We can set the number of bins with the `bins` kwarg\n",
    "plt.hist(eigenvec_cen,log = True,bins = 40, color = \"skyblue\", ec=\"k\")\n",
    "plt.title(\"Distribution of Eigenvector Centrality Values\")\n",
    "plt.xlabel(\"Eigenvector Value\")\n",
    "plt.ylabel(\"Count\")\n",
    "plt.show()"
   ]
  },
  {
   "cell_type": "code",
   "execution_count": 20,
   "metadata": {},
   "outputs": [],
   "source": [
    "eigenvec_cen = nx.eigenvector_centrality(graph)\n",
    "\n",
    "eigen_max_vals = []\n",
    "for n in range(5):\n",
    "    eigen_centrality_values = list(eigenvec_cen.values())\n",
    "    id_ = list(eigenvec_cen.keys())\n",
    "    max_n = eigen_centrality_values.index(max(eigen_centrality_values))\n",
    "    eigen_max_id_n = id_[max_n]\n",
    "    del eigenvec_cen[eigen_max_id_n]\n",
    "    eigen_max_vals.append(eigen_max_id_n)\n",
    "    \n",
    "eigenvec_cen = nx.eigenvector_centrality(graph)"
   ]
  },
  {
   "cell_type": "code",
   "execution_count": 21,
   "metadata": {},
   "outputs": [
    {
     "name": "stdout",
     "output_type": "stream",
     "text": [
      "Eigenvalue centrality values:  e930195e-baa4-4d42-9d5f-e042fcaf5a9e Degree centrality values:  e930195e-baa4-4d42-9d5f-e042fcaf5a9e\n",
      "Eigenvalue centrality values:  5e1ee9bb-e5dc-4617-8f6a-027698a729a7 Degree centrality values:  fa0b4274-c58c-464c-9e29-dc87e62b414f\n",
      "Eigenvalue centrality values:  591bf46d-f30f-488c-8ebc-da7809bee7a7 Degree centrality values:  a662a4e7-415e-417e-8a8f-fe085d7e487f\n",
      "Eigenvalue centrality values:  a2d095fb-cb2c-4658-9156-85a7e5953082 Degree centrality values:  172f9f68-8417-43bb-8fe5-b377d569f6b6\n",
      "Eigenvalue centrality values:  f6712eb3-d0a1-4fe3-8737-2b0c2166922f Degree centrality values:  b0f6455a-6f99-42c5-8502-4fa535768ceb\n"
     ]
    }
   ],
   "source": [
    "for n in range(5):\n",
    "    print(\"Eigenvalue centrality values: \",eigen_max_vals[n],\"Degree centrality values: \",max_vals[n])"
   ]
  },
  {
   "cell_type": "markdown",
   "metadata": {},
   "source": [
    "#### As we can see, the node with the highest degree centrality also has the highest eigenvalue centrality. This must be a very important paper, so I decided to find out what it is. I checked the dataset and found that this highly important paper is written by Edgar F. Codd, a computer scientist who invented the relational model for database management. He is referred to as \"the father of the database\". Clearly a very important man. The paper in question is titled  \"A relational model of data for large shared data banks\" (the paper which earned him this nickname). The paper is cited 12,612 times. This is certainly a success in centrality analysis.\n",
    "\n",
    "\n",
    "\n",
    "\n",
    "The following unsupervied learning link prediction is largely based on the example given in the following link: https://github.com/lucashu1/link-prediction/blob/257604029069ba7baf6692e3839aa863bef22b06/link-prediction-baselines.ipynb"
   ]
  },
  {
   "cell_type": "code",
   "execution_count": 22,
   "metadata": {},
   "outputs": [],
   "source": [
    "\n",
    "from sklearn.metrics import  roc_auc_score\n",
    "from sklearn.metrics import average_precision_score\n",
    "from sklearn.model_selection import train_test_split"
   ]
  },
  {
   "cell_type": "code",
   "execution_count": 23,
   "metadata": {},
   "outputs": [],
   "source": [
    "from gae.preprocessing import mask_test_edges\n",
    "np.random.seed(0) # make sure train-test split is consistent between notebooks\n",
    "adj_sparse = nx.to_scipy_sparse_matrix(graph)\n",
    "\n",
    "# Perform train-test split\n",
    "adj_train, train_edges, val_edges, val_edges_false, \\\n",
    "    test_edges, test_edges_false = mask_test_edges(adj_sparse)\n",
    "g_train = nx.from_scipy_sparse_matrix(adj_train) # new graph object with only non-hidden edges"
   ]
  },
  {
   "cell_type": "code",
   "execution_count": 24,
   "metadata": {},
   "outputs": [
    {
     "name": "stdout",
     "output_type": "stream",
     "text": [
      "Total nodes: 22910\n",
      "Total edges: 50831\n",
      "Training edges (positive): 43207\n",
      "Validation edges (positive): 2541\n",
      "Validation edges (negative): 2541\n",
      "Test edges (positive): 5083\n",
      "Test edges (negative): 5083\n"
     ]
    }
   ],
   "source": [
    "# Inspect train/test split\n",
    "print(\"Total nodes:\", adj_sparse.shape[0])\n",
    "print(\"Total edges:\", int(adj_sparse.nnz/2)) # adj is symmetric, so nnz (num non-zero) = 2*num_edges\n",
    "print(\"Training edges (positive):\", len(train_edges))\n",
    "#print(\"Training edges (negative):\", len(train_edges_false))\n",
    "print(\"Validation edges (positive):\", len(val_edges))\n",
    "print(\"Validation edges (negative):\", len(val_edges_false))\n",
    "print(\"Test edges (positive):\", len(test_edges))\n",
    "print(\"Test edges (negative):\", len(test_edges_false))"
   ]
  },
  {
   "cell_type": "code",
   "execution_count": 25,
   "metadata": {},
   "outputs": [],
   "source": [
    "def get_roc_score(edges_pos, edges_neg, score_matrix):\n",
    "    # Store positive edge predictions, actual values\n",
    "    preds_pos = []\n",
    "    pos = []\n",
    "    for edge in edges_pos:\n",
    "        preds_pos.append(score_matrix[edge[0], edge[1]]) # predicted score\n",
    "        pos.append(adj_sparse[edge[0], edge[1]]) # actual value (1 for positive)\n",
    "        \n",
    "    # Store negative edge predictions, actual values\n",
    "    preds_neg = []\n",
    "    neg = []\n",
    "    for edge in edges_neg:\n",
    "        preds_neg.append(score_matrix[edge[0], edge[1]]) # predicted score\n",
    "        neg.append(adj_sparse[edge[0], edge[1]]) # actual value (0 for negative)\n",
    "        \n",
    "    # Calculate scores\n",
    "    preds_all = np.hstack([preds_pos, preds_neg])\n",
    "    labels_all = np.hstack([np.ones(len(preds_pos)), np.zeros(len(preds_neg))])\n",
    "    roc_score = roc_auc_score(labels_all, preds_all)\n",
    "    ap_score = average_precision_score(labels_all, preds_all)\n",
    "    return roc_score, ap_score"
   ]
  },
  {
   "cell_type": "code",
   "execution_count": 26,
   "metadata": {},
   "outputs": [],
   "source": [
    "# Compute Adamic-Adar indexes from g_train\n",
    "aa_matrix = np.zeros(adj_sparse.shape)\n",
    "for u, v, p in nx.adamic_adar_index(g_train): # (u, v) = node indices, p = Adamic-Adar index\n",
    "    aa_matrix[u][v] = p\n",
    "    aa_matrix[v][u] = p # make sure it's symmetric\n",
    "    \n",
    "# Normalize array\n",
    "aa_matrix = aa_matrix / aa_matrix.max()"
   ]
  },
  {
   "cell_type": "code",
   "execution_count": 27,
   "metadata": {},
   "outputs": [
    {
     "name": "stdout",
     "output_type": "stream",
     "text": [
      "Adamic-Adar Test ROC score:  0.7856022255620637\n",
      "Adamic-Adar Test AP score:  0.7857207434347913\n"
     ]
    }
   ],
   "source": [
    "# Calculate ROC AUC and Average Precision\n",
    "aa_roc, aa_ap = get_roc_score(test_edges, test_edges_false, aa_matrix)\n",
    "\n",
    "print('Adamic-Adar Test ROC score: ', str(aa_roc))\n",
    "print('Adamic-Adar Test AP score: ', str(aa_ap))"
   ]
  },
  {
   "cell_type": "markdown",
   "metadata": {},
   "source": [
    "#### We have a pretty good accuracy with the unsupervised learning. We will now try a supervised learning approach and compare the accuracy.\n",
    "\n",
    "\n",
    "#### I had a very hard time getting the unsupervised learning to work. I found that many packages had outdated or confusing documentation, but ended up finding that the stellargraph docs had a good example for supervised learning. The following code is largely based on the example from the following stellargraph docs example:\n",
    "https://colab.research.google.com/github/stellargraph/stellargraph/blob/master/demos/link-prediction/node2vec-link-prediction.ipynb#scrollTo=S6PLleHttlBl"
   ]
  },
  {
   "cell_type": "code",
   "execution_count": 28,
   "metadata": {},
   "outputs": [],
   "source": [
    "from stellargraph import StellarGraph\n",
    "\n",
    "\n",
    "from stellargraph.data import EdgeSplitter\n"
   ]
  },
  {
   "cell_type": "code",
   "execution_count": 29,
   "metadata": {},
   "outputs": [
    {
     "name": "stderr",
     "output_type": "stream",
     "text": [
      "D:\\Anaconda\\lib\\site-packages\\ipykernel_launcher.py:1: DeprecationWarning: Constructing a StellarGraph directly from a NetworkX graph has been replaced by the `StellarGraph.from_networkx` function\n",
      "  \"\"\"Entry point for launching an IPython kernel.\n"
     ]
    },
    {
     "data": {
      "text/plain": [
       "'StellarGraph: Undirected multigraph\\n Nodes: 22910, Edges: 50831\\n\\n Node types:\\n  default: [22910]\\n    Features: none\\n    Edge types: default-default->default\\n\\n Edge types:\\n    default-default->default: [50831]\\n        Weights: all 1 (default)\\n        Features: none'"
      ]
     },
     "execution_count": 29,
     "metadata": {},
     "output_type": "execute_result"
    }
   ],
   "source": [
    "stellar_graph = StellarGraph(graph)\n",
    "stellar_graph.info()"
   ]
  },
  {
   "cell_type": "code",
   "execution_count": 30,
   "metadata": {},
   "outputs": [
    {
     "name": "stdout",
     "output_type": "stream",
     "text": [
      "** Sampled 5083 positive and 5083 negative edges. **\n",
      "StellarGraph: Undirected multigraph\n",
      " Nodes: 22910, Edges: 45748\n",
      "\n",
      " Node types:\n",
      "  default: [22910]\n",
      "    Features: none\n",
      "    Edge types: default-default->default\n",
      "\n",
      " Edge types:\n",
      "    default-default->default: [45748]\n",
      "        Weights: all 1 (default)\n",
      "        Features: none\n"
     ]
    }
   ],
   "source": [
    "# Define an edge splitter on the original graph:\n",
    "edge_splitter_test = EdgeSplitter(stellar_graph)\n",
    "\n",
    "# Randomly sample a fraction p=0.1 of all positive links, and same number of negative links, from graph, and obtain the\n",
    "# reduced graph graph_test with the sampled links removed:\n",
    "graph_test, examples_test, labels_test = edge_splitter_test.train_test_split(\n",
    "    p=0.1, method=\"global\"\n",
    ")\n",
    "\n",
    "print(graph_test.info())"
   ]
  },
  {
   "cell_type": "code",
   "execution_count": 31,
   "metadata": {},
   "outputs": [
    {
     "name": "stdout",
     "output_type": "stream",
     "text": [
      "** Sampled 4574 positive and 4574 negative edges. **\n",
      "StellarGraph: Undirected multigraph\n",
      " Nodes: 22910, Edges: 41174\n",
      "\n",
      " Node types:\n",
      "  default: [22910]\n",
      "    Features: none\n",
      "    Edge types: default-default->default\n",
      "\n",
      " Edge types:\n",
      "    default-default->default: [41174]\n",
      "        Weights: all 1 (default)\n",
      "        Features: none\n"
     ]
    }
   ],
   "source": [
    "# Do the same process to compute a training subset from within the test graph\n",
    "edge_splitter_train = EdgeSplitter(graph_test, stellar_graph)\n",
    "graph_train, examples, labels = edge_splitter_train.train_test_split(\n",
    "    p=0.1, method=\"global\"\n",
    ")\n",
    "(\n",
    "    examples_train,\n",
    "    examples_model_selection,\n",
    "    labels_train,\n",
    "    labels_model_selection,\n",
    ") = train_test_split(examples, labels, train_size=0.75, test_size=0.25)\n",
    "\n",
    "print(graph_train.info())"
   ]
  },
  {
   "cell_type": "code",
   "execution_count": 32,
   "metadata": {},
   "outputs": [
    {
     "data": {
      "text/html": [
       "<div>\n",
       "<style scoped>\n",
       "    .dataframe tbody tr th:only-of-type {\n",
       "        vertical-align: middle;\n",
       "    }\n",
       "\n",
       "    .dataframe tbody tr th {\n",
       "        vertical-align: top;\n",
       "    }\n",
       "\n",
       "    .dataframe thead th {\n",
       "        text-align: right;\n",
       "    }\n",
       "</style>\n",
       "<table border=\"1\" class=\"dataframe\">\n",
       "  <thead>\n",
       "    <tr style=\"text-align: right;\">\n",
       "      <th></th>\n",
       "      <th>Number of Examples</th>\n",
       "      <th>Hidden from</th>\n",
       "      <th>Picked from</th>\n",
       "      <th>Use</th>\n",
       "    </tr>\n",
       "    <tr>\n",
       "      <th>Split</th>\n",
       "      <th></th>\n",
       "      <th></th>\n",
       "      <th></th>\n",
       "      <th></th>\n",
       "    </tr>\n",
       "  </thead>\n",
       "  <tbody>\n",
       "    <tr>\n",
       "      <td>Training Set</td>\n",
       "      <td>6861</td>\n",
       "      <td>Train Graph</td>\n",
       "      <td>Test Graph</td>\n",
       "      <td>Train the Link Classifier</td>\n",
       "    </tr>\n",
       "    <tr>\n",
       "      <td>Model Selection</td>\n",
       "      <td>2287</td>\n",
       "      <td>Train Graph</td>\n",
       "      <td>Test Graph</td>\n",
       "      <td>Select the best Link Classifier model</td>\n",
       "    </tr>\n",
       "    <tr>\n",
       "      <td>Test set</td>\n",
       "      <td>10166</td>\n",
       "      <td>Test Graph</td>\n",
       "      <td>Full Graph</td>\n",
       "      <td>Evaluate the best Link Classifier</td>\n",
       "    </tr>\n",
       "  </tbody>\n",
       "</table>\n",
       "</div>"
      ],
      "text/plain": [
       "                 Number of Examples  Hidden from Picked from  \\\n",
       "Split                                                          \n",
       "Training Set                   6861  Train Graph  Test Graph   \n",
       "Model Selection                2287  Train Graph  Test Graph   \n",
       "Test set                      10166   Test Graph  Full Graph   \n",
       "\n",
       "                                                   Use  \n",
       "Split                                                   \n",
       "Training Set                 Train the Link Classifier  \n",
       "Model Selection  Select the best Link Classifier model  \n",
       "Test set             Evaluate the best Link Classifier  "
      ]
     },
     "execution_count": 32,
     "metadata": {},
     "output_type": "execute_result"
    }
   ],
   "source": [
    "#prints our testing and training data makeup\n",
    "pd.DataFrame(\n",
    "    [\n",
    "        (\n",
    "            \"Training Set\",\n",
    "            len(examples_train),\n",
    "            \"Train Graph\",\n",
    "            \"Test Graph\",\n",
    "            \"Train the Link Classifier\",\n",
    "        ),\n",
    "        (\n",
    "            \"Model Selection\",\n",
    "            len(examples_model_selection),\n",
    "            \"Train Graph\",\n",
    "            \"Test Graph\",\n",
    "            \"Select the best Link Classifier model\",\n",
    "        ),\n",
    "        (\n",
    "            \"Test set\",\n",
    "            len(examples_test),\n",
    "            \"Test Graph\",\n",
    "            \"Full Graph\",\n",
    "            \"Evaluate the best Link Classifier\",\n",
    "        ),\n",
    "    ],\n",
    "    columns=(\"Split\", \"Number of Examples\", \"Hidden from\", \"Picked from\", \"Use\"),\n",
    ").set_index(\"Split\")"
   ]
  },
  {
   "cell_type": "code",
   "execution_count": 33,
   "metadata": {},
   "outputs": [],
   "source": [
    "p = 1.0\n",
    "q = 1.0\n",
    "dimensions = 128\n",
    "num_walks = 10\n",
    "walk_length = 80\n",
    "window_size = 10\n",
    "num_iter = 1\n",
    "workers = 1"
   ]
  },
  {
   "cell_type": "code",
   "execution_count": 34,
   "metadata": {},
   "outputs": [
    {
     "name": "stderr",
     "output_type": "stream",
     "text": [
      "D:\\Anaconda\\lib\\site-packages\\gensim\\similarities\\__init__.py:15: UserWarning: The gensim.similarities.levenshtein submodule is disabled, because the optional Levenshtein package <https://pypi.org/project/python-Levenshtein/> is unavailable. Install Levenhstein (e.g. `pip install python-Levenshtein`) to suppress this warning.\n",
      "  warnings.warn(msg)\n"
     ]
    }
   ],
   "source": [
    "from stellargraph.data import BiasedRandomWalk\n",
    "from gensim.models import Word2Vec\n",
    "\n",
    "#creates walks and runs Word2Vec\n",
    "def node2vec_embedding(graph, name):\n",
    "    rw = BiasedRandomWalk(stellar_graph)\n",
    "    walks = rw.run(stellar_graph.nodes(), n=num_walks, length=walk_length, p=p, q=q)\n",
    "    print(f\"Number of random walks for '{name}': {len(walks)}\")\n",
    "\n",
    "    model = Word2Vec(\n",
    "        walks,\n",
    "        vector_size=dimensions,\n",
    "        window=window_size,\n",
    "        min_count=0,\n",
    "        sg=1,\n",
    "        workers=workers,\n",
    "        epochs=num_iter,\n",
    "    )\n",
    "\n",
    "    def get_embedding(u):\n",
    "        return model.wv[u]\n",
    "\n",
    "    return get_embedding"
   ]
  },
  {
   "cell_type": "code",
   "execution_count": 35,
   "metadata": {},
   "outputs": [
    {
     "name": "stdout",
     "output_type": "stream",
     "text": [
      "Number of random walks for 'Train Graph': 229100\n"
     ]
    }
   ],
   "source": [
    "embedding_train = node2vec_embedding(graph_train, \"Train Graph\")"
   ]
  },
  {
   "cell_type": "code",
   "execution_count": 36,
   "metadata": {},
   "outputs": [],
   "source": [
    "from sklearn.pipeline import Pipeline\n",
    "from sklearn.linear_model import LogisticRegressionCV\n",
    "from sklearn.preprocessing import StandardScaler\n",
    "\n",
    "\n",
    "# 1. link embeddings\n",
    "def link_examples_to_features(link_examples, transform_node, binary_operator):\n",
    "    return [\n",
    "        binary_operator(transform_node(src), transform_node(dst))\n",
    "        for src, dst in link_examples\n",
    "    ]\n",
    "\n",
    "\n",
    "# 2. training classifier\n",
    "def train_link_prediction_model(\n",
    "    link_examples, link_labels, get_embedding, binary_operator\n",
    "):\n",
    "    clf = link_prediction_classifier()\n",
    "    link_features = link_examples_to_features(\n",
    "        link_examples, get_embedding, binary_operator\n",
    "    )\n",
    "    clf.fit(link_features, link_labels)\n",
    "    return clf\n",
    "\n",
    "\n",
    "def link_prediction_classifier(max_iter=2000):\n",
    "    lr_clf = LogisticRegressionCV(Cs=10, cv=10, scoring=\"average_precision\", max_iter=max_iter)\n",
    "    return Pipeline(steps=[(\"sc\", StandardScaler()), (\"clf\", lr_clf)])\n",
    "\n",
    "\n",
    "# 3. and 4. evaluate classifier\n",
    "def evaluate_link_prediction_model(\n",
    "    clf, link_examples_test, link_labels_test, get_embedding, binary_operator\n",
    "):\n",
    "    link_features_test = link_examples_to_features(\n",
    "        link_examples_test, get_embedding, binary_operator\n",
    "    )\n",
    "    score = evaluate_roc_auc(clf, link_features_test, link_labels_test)\n",
    "    return score\n",
    "\n",
    "\n",
    "def evaluate_roc_auc(clf, link_features, link_labels):\n",
    "    predicted = clf.predict_proba(link_features)\n",
    "\n",
    "    # check which class corresponds to positive links\n",
    "    positive_column = list(clf.classes_).index(1)\n",
    "    return roc_auc_score(link_labels, predicted[:, positive_column])"
   ]
  },
  {
   "cell_type": "code",
   "execution_count": 37,
   "metadata": {},
   "outputs": [],
   "source": [
    "def operator_hadamard(u, v):\n",
    "    return u * v\n",
    "\n",
    "\n",
    "def operator_l1(u, v):\n",
    "    return np.abs(u - v)\n",
    "\n",
    "\n",
    "def operator_l2(u, v):\n",
    "    return (u - v) ** 2\n",
    "\n",
    "\n",
    "def operator_avg(u, v):\n",
    "    return (u + v) / 2.0\n",
    "\n",
    "\n",
    "def run_link_prediction(binary_operator):\n",
    "    clf = train_link_prediction_model(\n",
    "        examples_train, labels_train, embedding_train, binary_operator\n",
    "    )\n",
    "    score = evaluate_link_prediction_model(\n",
    "        clf,\n",
    "        examples_model_selection,\n",
    "        labels_model_selection,\n",
    "        embedding_train,\n",
    "        binary_operator,\n",
    "    )\n",
    "\n",
    "    return {\n",
    "        \"classifier\": clf,\n",
    "        \"binary_operator\": binary_operator,\n",
    "        \"score\": score,\n",
    "    }\n",
    "\n",
    "\n",
    "binary_operators = [operator_hadamard, operator_l1, operator_l2, operator_avg]"
   ]
  },
  {
   "cell_type": "code",
   "execution_count": 38,
   "metadata": {},
   "outputs": [
    {
     "name": "stdout",
     "output_type": "stream",
     "text": [
      "Best result from 'operator_hadamard'\n"
     ]
    },
    {
     "data": {
      "text/html": [
       "<div>\n",
       "<style scoped>\n",
       "    .dataframe tbody tr th:only-of-type {\n",
       "        vertical-align: middle;\n",
       "    }\n",
       "\n",
       "    .dataframe tbody tr th {\n",
       "        vertical-align: top;\n",
       "    }\n",
       "\n",
       "    .dataframe thead th {\n",
       "        text-align: right;\n",
       "    }\n",
       "</style>\n",
       "<table border=\"1\" class=\"dataframe\">\n",
       "  <thead>\n",
       "    <tr style=\"text-align: right;\">\n",
       "      <th></th>\n",
       "      <th>Average Precision score</th>\n",
       "    </tr>\n",
       "    <tr>\n",
       "      <th>name</th>\n",
       "      <th></th>\n",
       "    </tr>\n",
       "  </thead>\n",
       "  <tbody>\n",
       "    <tr>\n",
       "      <td>operator_hadamard</td>\n",
       "      <td>0.997994</td>\n",
       "    </tr>\n",
       "    <tr>\n",
       "      <td>operator_l1</td>\n",
       "      <td>0.960817</td>\n",
       "    </tr>\n",
       "    <tr>\n",
       "      <td>operator_l2</td>\n",
       "      <td>0.960972</td>\n",
       "    </tr>\n",
       "    <tr>\n",
       "      <td>operator_avg</td>\n",
       "      <td>0.776850</td>\n",
       "    </tr>\n",
       "  </tbody>\n",
       "</table>\n",
       "</div>"
      ],
      "text/plain": [
       "                   Average Precision score\n",
       "name                                      \n",
       "operator_hadamard                 0.997994\n",
       "operator_l1                       0.960817\n",
       "operator_l2                       0.960972\n",
       "operator_avg                      0.776850"
      ]
     },
     "execution_count": 38,
     "metadata": {},
     "output_type": "execute_result"
    }
   ],
   "source": [
    "results = [run_link_prediction(op) for op in binary_operators]\n",
    "best_result = max(results, key=lambda result: result[\"score\"])\n",
    "\n",
    "print(f\"Best result from '{best_result['binary_operator'].__name__}'\")\n",
    "\n",
    "pd.DataFrame(\n",
    "    [(result[\"binary_operator\"].__name__, result[\"score\"]) for result in results],\n",
    "    columns=(\"name\", \"Average Precision score\"),\n",
    ").set_index(\"name\")"
   ]
  },
  {
   "cell_type": "markdown",
   "metadata": {},
   "source": [
    "#### We find that the supervised learning link predictor is far superior to the unsupervised link predictor if we make use of the Hadamard operator."
   ]
  }
 ],
 "metadata": {
  "kernelspec": {
   "display_name": "Python 3",
   "language": "python",
   "name": "python3"
  },
  "language_info": {
   "codemirror_mode": {
    "name": "ipython",
    "version": 3
   },
   "file_extension": ".py",
   "mimetype": "text/x-python",
   "name": "python",
   "nbconvert_exporter": "python",
   "pygments_lexer": "ipython3",
   "version": "3.8.8"
  }
 },
 "nbformat": 4,
 "nbformat_minor": 2
}
