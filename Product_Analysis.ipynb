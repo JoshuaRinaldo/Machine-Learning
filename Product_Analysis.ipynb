{
 "cells": [
  {
   "cell_type": "code",
   "execution_count": 1,
   "metadata": {},
   "outputs": [],
   "source": [
    "import pandas as pd\n",
    "import re\n",
    "\n",
    "from PIL import Image # used for loading images\n",
    "import numpy as np\n",
    "import os # used for navigating to image path\n",
    "import imageio # used for writing images\n",
    "\n",
    "import tensorflow as tf\n",
    "\n",
    "from tensorflow.keras import datasets, layers, models\n",
    "import tensorflow.keras as keras\n",
    "\n",
    "import matplotlib.pyplot as plt\n",
    "#garbage collection impedes my ability to append to large lists (which is important when\n",
    "#organizing the images in array form), so I turned it off. this doesn't impact the code\n",
    "#and I am not using any reference loops so there isn't a problem with this.\n",
    "import gc as gc\n",
    "gc.disable()\n",
    "\n",
    "\n",
    "categories = [\"topwear\",\"bottomwear\",\"innerwear\",\"bags\",\"watches\",\"jewellery\",\"eyewear\",\"wallets\",\"shoes\",\"sandal\",\"makeup\",\"fragrance\",\"others\"]\n",
    "def sort_labels(string):\n",
    "    #brings all strings to lowercase\n",
    "    string = str(string)\n",
    "    string = string.lower()\n",
    "    for category in categories:\n",
    "        if category in string:\n",
    "            return category\n",
    "def sort_image_ids(string):\n",
    "    #making sure it is a string!\n",
    "    string = string.replace(\"\\\\\", \"\")\n",
    "    #returns all numerical values (aka our image ids)\n",
    "    string = re.sub(\"[^0-9]\", \"\",string)\n",
    "    return string\n",
    "def clean_description(description):\n",
    "    #this removes the extra labels that shouldn't be in the description.\n",
    "    components = (description).split(\"\\t\")\n",
    "    if len(components)==3:\n",
    "        return components"
   ]
  },
  {
   "cell_type": "code",
   "execution_count": 2,
   "metadata": {},
   "outputs": [],
   "source": [
    "test = pd.read_csv(\"test.csv\",names = [\"imageid\"])\n",
    "#deletes the first empty row\n",
    "test = test[1:]\n",
    "test_array = np.array(test[\"imageid\"])"
   ]
  },
  {
   "cell_type": "code",
   "execution_count": 3,
   "metadata": {},
   "outputs": [],
   "source": [
    "test_image_id = []\n",
    "test_label = []\n",
    "test_description = []\n",
    "for element in test_array:\n",
    "    temp_image_id,temp_label,temp_description = clean_description(element)\n",
    "    test_image_id.append(temp_image_id)\n",
    "    test_label.append(temp_label)\n",
    "    test_description.append(temp_description)"
   ]
  },
  {
   "cell_type": "code",
   "execution_count": 4,
   "metadata": {},
   "outputs": [],
   "source": [
    "test_image_arrays = []\n",
    "test_image_id_new = []\n",
    "test_label_new = []\n",
    "test_description_new = []\n",
    "\n",
    "n = 0\n",
    "for imageid in test_image_id:\n",
    "    #load image from folder location\n",
    "    image = Image.open('C:/adv_comp_phys_images/images/'+imageid+\".jpg\")\n",
    "    #resize the image to the standard of our dataset (60,80)\n",
    "    image = image.resize((60,80))\n",
    "    # load image as pixel array\n",
    "    image_data = np.asarray(image)\n",
    "    if image_data.shape == (80,60,3): #some images seem to not have the RGB value, so we\n",
    "        test_image_arrays.append(image_data) #exclude them. They produce issues with the\n",
    "                                            #asarray process and will likely reduce accuracy\n",
    "        temp_image_id,temp_label,temp_description = clean_description(test_array[n])\n",
    "        test_image_id_new.append(temp_image_id)\n",
    "        test_label_new.append(temp_label)\n",
    "        test_description_new.append(temp_description)\n",
    "    n+=1\n",
    "    \n",
    "#tuns list of arrays into array\n",
    "test_image_arrays = np.asarray(test_image_arrays)"
   ]
  },
  {
   "cell_type": "code",
   "execution_count": 5,
   "metadata": {},
   "outputs": [
    {
     "name": "stdout",
     "output_type": "stream",
     "text": [
      "20865\n",
      "Sandal\n",
      "Disney Kids-Unisex Lightning Green Sandals\n"
     ]
    },
    {
     "data": {
      "image/png": "[encoded data removed]",
      "text/plain": [
       "<Figure size 432x288 with 1 Axes>"
      ]
     },
     "metadata": {
      "needs_background": "light"
     },
     "output_type": "display_data"
    }
   ],
   "source": [
    "print(test_image_id_new[1000])\n",
    "print(test_label_new[1000])\n",
    "print(test_description_new[1000])\n",
    "plt.imshow(test_image_arrays[1000])\n",
    "plt.show()"
   ]
  },
  {
   "cell_type": "markdown",
   "metadata": {},
   "source": [
    "This was just to check the integrity of the process. It produces the image associated with the label, so we can proceed. I will now run the same process for the training images."
   ]
  },
  {
   "cell_type": "code",
   "execution_count": 6,
   "metadata": {},
   "outputs": [
    {
     "data": {
      "text/plain": [
       "False"
      ]
     },
     "execution_count": 6,
     "metadata": {},
     "output_type": "execute_result"
    }
   ],
   "source": [
    "gc.disable()\n",
    "gc.isenabled()"
   ]
  },
  {
   "cell_type": "code",
   "execution_count": 7,
   "metadata": {},
   "outputs": [],
   "source": [
    "train = pd.read_csv(\"train.csv\",names = [\"imageid\"])\n",
    "#deletes the first empty row\n",
    "train = train[1:]\n",
    "train_array = np.array(train[\"imageid\"])\n",
    "\n",
    "train_image_id = []\n",
    "train_label = []\n",
    "train_description = []\n",
    "for element in train_array:\n",
    "    temp_image_id,temp_label,temp_description = clean_description(element)\n",
    "    train_image_id.append(temp_image_id)\n",
    "    train_label.append(temp_label)\n",
    "    train_description.append(temp_description)\n",
    "\n",
    "train_image_arrays = []\n",
    "train_image_id_new = []\n",
    "train_label_new = []\n",
    "train_description_new = []\n",
    "\n",
    "n = 0\n",
    "for imageid in train_image_id:\n",
    "    #load image from folder location\n",
    "    image = Image.open('C:/adv_comp_phys_images/images/'+imageid+\".jpg\")\n",
    "    #resize the image to the standard of our dataset (60,80)\n",
    "    image = image.resize((60,80))\n",
    "    # load image as pixel array\n",
    "    image_data = np.asarray(image)\n",
    "    if image_data.shape == (80,60,3): #some images seem to not have the RGB value, so we\n",
    "        train_image_arrays.append(image_data) #exclude them. They produce issues with the\n",
    "                                            #asarray process and will likely reduce accuracy\n",
    "        temp_image_id,temp_label,temp_description = clean_description(train_array[n])\n",
    "        train_image_id_new.append(temp_image_id)\n",
    "        train_label_new.append(temp_label)\n",
    "        train_description_new.append(temp_description)\n",
    "    n+=1\n",
    "train_image_arrays = np.asarray(train_image_arrays)"
   ]
  },
  {
   "cell_type": "markdown",
   "metadata": {},
   "source": [
    "I found that the above cell took a very long time to run. I beleive this is because the list requires a lot of memory due to Python's garbage collector (after writing this I went back and fixed the issue by disabling the garbage collector, which significantly decreased the runtime)."
   ]
  },
  {
   "cell_type": "markdown",
   "metadata": {},
   "source": [
    "I didn't do this before, but I need to change the labels into digits, so I'll do that below."
   ]
  },
  {
   "cell_type": "code",
   "execution_count": 8,
   "metadata": {},
   "outputs": [],
   "source": [
    "def turn_labels_into_digits(label):\n",
    "    if label.upper() == \"TOPWEAR\":\n",
    "        return np.array([1])\n",
    "    if label.upper() == \"BOTTOMWEAR\":\n",
    "        return np.array([2])\n",
    "    if label.upper() == \"INNERWEAR\":\n",
    "        return np.array([3])\n",
    "    if label.upper() == \"BAGS\":\n",
    "        return np.array([4])\n",
    "    if label.upper() == \"WATCHES\":\n",
    "        return np.array([5])\n",
    "    if label.upper() == \"JEWELLERY\":\n",
    "        return np.array([6])\n",
    "    if label.upper() == \"EYEWEAR\":\n",
    "        return np.array([7])\n",
    "    if label.upper() == \"WALLETS\":\n",
    "        return np.array([8])\n",
    "    if label.upper() == \"SHOES\":\n",
    "        return np.array([9])\n",
    "    if label.upper() == \"SANDAL\":\n",
    "        return np.array([10])\n",
    "    if label.upper() == \"MAKEUP\":\n",
    "        return np.array([11])\n",
    "    if label.upper() == \"FRAGRANCE\":\n",
    "        return np.array([12])\n",
    "    if label.upper() == \"OTHERS\":\n",
    "        return np.array([13])"
   ]
  },
  {
   "cell_type": "code",
   "execution_count": 9,
   "metadata": {},
   "outputs": [],
   "source": [
    "n=0\n",
    "for label in train_label_new:\n",
    "    train_label_new[n] = turn_labels_into_digits(label)\n",
    "    n+=1\n",
    "train_label_new = np.asarray(train_label_new)\n",
    "    \n",
    "n=0\n",
    "for label in test_label_new:\n",
    "    test_label_new[n] = turn_labels_into_digits(label)\n",
    "    n+=1\n",
    "test_label_new = np.asarray(test_label_new)"
   ]
  },
  {
   "cell_type": "code",
   "execution_count": 10,
   "metadata": {},
   "outputs": [],
   "source": [
    "model = models.Sequential()\n",
    "model.add(layers.Conv2D(32, (3, 3), activation='relu', input_shape=(60, 80, 3)))\n",
    "model.add(layers.MaxPooling2D((2, 2)))\n",
    "model.add(layers.Conv2D(64, (3, 3), activation='relu', input_shape=(60, 80, 3)))\n",
    "model.add(layers.MaxPooling2D((2, 2)))\n",
    "model.add(layers.Conv2D(64, (3, 3), activation='relu', input_shape=(60, 80, 3)))\n",
    "\n",
    "model.add(layers.Flatten())\n",
    "model.add(layers.Dense(64, activation='relu'))\n",
    "model.add(layers.Dense(14))"
   ]
  },
  {
   "cell_type": "code",
   "execution_count": 11,
   "metadata": {},
   "outputs": [
    {
     "name": "stdout",
     "output_type": "stream",
     "text": [
      "Epoch 1/3\n",
      "WARNING:tensorflow:Model was constructed with shape (None, 60, 80, 3) for input KerasTensor(type_spec=TensorSpec(shape=(None, 60, 80, 3), dtype=tf.float32, name='conv2d_input'), name='conv2d_input', description=\"created by layer 'conv2d_input'\"), but it was called on an input with incompatible shape (None, 80, 60, 3).\n",
      "WARNING:tensorflow:Model was constructed with shape (None, 60, 80, 3) for input KerasTensor(type_spec=TensorSpec(shape=(None, 60, 80, 3), dtype=tf.float32, name='conv2d_input'), name='conv2d_input', description=\"created by layer 'conv2d_input'\"), but it was called on an input with incompatible shape (None, 80, 60, 3).\n",
      "1252/1252 [==============================] - ETA: 0s - loss: 4.2787 - accuracy: 0.7451WARNING:tensorflow:Model was constructed with shape (None, 60, 80, 3) for input KerasTensor(type_spec=TensorSpec(shape=(None, 60, 80, 3), dtype=tf.float32, name='conv2d_input'), name='conv2d_input', description=\"created by layer 'conv2d_input'\"), but it was called on an input with incompatible shape (None, 80, 60, 3).\n",
      "1252/1252 [==============================] - 107s 85ms/step - loss: 4.2762 - accuracy: 0.7452 - val_loss: 0.4631 - val_accuracy: 0.8544\n",
      "Epoch 2/3\n",
      "1252/1252 [==============================] - 106s 85ms/step - loss: 0.3416 - accuracy: 0.8950 - val_loss: 0.3265 - val_accuracy: 0.8989\n",
      "Epoch 3/3\n",
      "1252/1252 [==============================] - 106s 85ms/step - loss: 0.2672 - accuracy: 0.9149 - val_loss: 0.3309 - val_accuracy: 0.8994\n"
     ]
    }
   ],
   "source": [
    "model.compile(optimizer='adam',\n",
    "              loss=tf.keras.losses.SparseCategoricalCrossentropy(from_logits=True),\n",
    "              metrics=['accuracy'])\n",
    "\n",
    "history = model.fit(train_image_arrays, train_label_new, epochs=3, \n",
    "                    validation_data=(test_image_arrays, test_label_new))"
   ]
  },
  {
   "cell_type": "markdown",
   "metadata": {},
   "source": [
    "At around three layers we begin to run the risk of overfitting, which is indicated by an increase in the accuracy and a decrease in the valence accuracy. This doesn't always happen but it happens occasionally when we run the CNN."
   ]
  },
  {
   "cell_type": "code",
   "execution_count": 12,
   "metadata": {},
   "outputs": [
    {
     "name": "stdout",
     "output_type": "stream",
     "text": [
      "Model: \"sequential\"\n",
      "_________________________________________________________________\n",
      "Layer (type)                 Output Shape              Param #   \n",
      "=================================================================\n",
      "conv2d (Conv2D)              (None, 58, 78, 32)        896       \n",
      "_________________________________________________________________\n",
      "max_pooling2d (MaxPooling2D) (None, 29, 39, 32)        0         \n",
      "_________________________________________________________________\n",
      "conv2d_1 (Conv2D)            (None, 27, 37, 64)        18496     \n",
      "_________________________________________________________________\n",
      "max_pooling2d_1 (MaxPooling2 (None, 13, 18, 64)        0         \n",
      "_________________________________________________________________\n",
      "conv2d_2 (Conv2D)            (None, 11, 16, 64)        36928     \n",
      "_________________________________________________________________\n",
      "flatten (Flatten)            (None, 11264)             0         \n",
      "_________________________________________________________________\n",
      "dense (Dense)                (None, 64)                720960    \n",
      "_________________________________________________________________\n",
      "dense_1 (Dense)              (None, 14)                910       \n",
      "=================================================================\n",
      "Total params: 778,190\n",
      "Trainable params: 778,190\n",
      "Non-trainable params: 0\n",
      "_________________________________________________________________\n"
     ]
    }
   ],
   "source": [
    "model.summary()"
   ]
  },
  {
   "cell_type": "code",
   "execution_count": 13,
   "metadata": {},
   "outputs": [
    {
     "name": "stdout",
     "output_type": "stream",
     "text": [
      "124/124 - 3s - loss: 0.3309 - accuracy: 0.8994\n"
     ]
    },
    {
     "data": {
      "image/png": "[encoded data removed]",
      "text/plain": [
       "<Figure size 432x288 with 1 Axes>"
      ]
     },
     "metadata": {
      "needs_background": "light"
     },
     "output_type": "display_data"
    }
   ],
   "source": [
    "plt.plot(history.history['accuracy'], label='accuracy')\n",
    "plt.plot(history.history['val_accuracy'], label = 'val_accuracy')\n",
    "plt.xlabel('Epoch')\n",
    "plt.ylabel('Accuracy')\n",
    "plt.legend()\n",
    "\n",
    "test_loss, test_acc = model.evaluate(test_image_arrays,  test_label_new, verbose=2)"
   ]
  },
  {
   "cell_type": "markdown",
   "metadata": {},
   "source": [
    "We have a rather well preforming model! Now we will try to alter our approach in order to approve upon it. Here are the most straightforward ways of improving it:\n",
    "- reducing the pixel values from 0-255. CNNs work best with values between 0-1, and our pixels are represented by a value \n",
    "- adding the item description to the data. I think this will be especially useful because there are many keywords in the data which provide important context to the image.\n",
    "\n",
    "I beleive that removing the RGB dimension may also impact the accuracy, ut I am not sure if it will be effective for reasons outlined in the pdf."
   ]
  },
  {
   "cell_type": "code",
   "execution_count": 14,
   "metadata": {},
   "outputs": [],
   "source": [
    "normalized_train_image_arrays = train_image_arrays/255\n",
    "normalized_test_image_arrays = test_image_arrays/255"
   ]
  },
  {
   "cell_type": "code",
   "execution_count": 15,
   "metadata": {},
   "outputs": [
    {
     "name": "stdout",
     "output_type": "stream",
     "text": [
      "Epoch 1/3\n",
      "WARNING:tensorflow:Model was constructed with shape (None, 60, 80, 3) for input KerasTensor(type_spec=TensorSpec(shape=(None, 60, 80, 3), dtype=tf.float32, name='conv2d_input'), name='conv2d_input', description=\"created by layer 'conv2d_input'\"), but it was called on an input with incompatible shape (None, 80, 60, 3).\n",
      "WARNING:tensorflow:Model was constructed with shape (None, 60, 80, 3) for input KerasTensor(type_spec=TensorSpec(shape=(None, 60, 80, 3), dtype=tf.float32, name='conv2d_input'), name='conv2d_input', description=\"created by layer 'conv2d_input'\"), but it was called on an input with incompatible shape (None, 80, 60, 3).\n",
      "1252/1252 [==============================] - ETA: 0s - loss: 0.5676 - accuracy: 0.8247WARNING:tensorflow:Model was constructed with shape (None, 60, 80, 3) for input KerasTensor(type_spec=TensorSpec(shape=(None, 60, 80, 3), dtype=tf.float32, name='conv2d_input'), name='conv2d_input', description=\"created by layer 'conv2d_input'\"), but it was called on an input with incompatible shape (None, 80, 60, 3).\n",
      "1252/1252 [==============================] - 105s 83ms/step - loss: 0.5675 - accuracy: 0.8247 - val_loss: 0.2562 - val_accuracy: 0.9212\n",
      "Epoch 2/3\n",
      "1252/1252 [==============================] - 102s 82ms/step - loss: 0.1852 - accuracy: 0.9427 - val_loss: 0.2065 - val_accuracy: 0.9338\n",
      "Epoch 3/3\n",
      "1252/1252 [==============================] - 102s 82ms/step - loss: 0.1285 - accuracy: 0.9581 - val_loss: 0.2474 - val_accuracy: 0.9310\n"
     ]
    }
   ],
   "source": [
    "model.compile(optimizer='adam',\n",
    "              loss=tf.keras.losses.SparseCategoricalCrossentropy(from_logits=True),\n",
    "              metrics=['accuracy'])\n",
    "\n",
    "history = model.fit(normalized_train_image_arrays, train_label_new, epochs=3, \n",
    "                    validation_data=(normalized_test_image_arrays, test_label_new))"
   ]
  },
  {
   "cell_type": "markdown",
   "metadata": {},
   "source": [
    "We see an increase in accurracy when we run the CNN after normalizing the pixel data from between 0-255 and 0-1. A simple but effective approach. Next, we will add captions to the image training set."
   ]
  },
  {
   "cell_type": "code",
   "execution_count": 16,
   "metadata": {},
   "outputs": [],
   "source": [
    "def add_captions(image_array,caption_array):\n",
    "    new_image_array = []\n",
    "    n = 0\n",
    "    for image in image_array:\n",
    "        caption = []\n",
    "        for letter in caption_array[n]:\n",
    "            caption.append(float(ord(letter)))\n",
    "        caption = np.asarray(caption).astype(np.float32)\n",
    "        temp_array = np.stack([image,caption])\n",
    "        new_image_array.append(temp_array)\n",
    "        n+=1\n",
    "    return np.asarray(new_image_array)\n",
    "\n",
    "def turn_strings_into_numbers(string_array):\n",
    "    new_string_array = []\n",
    "    for string in string_array:\n",
    "        temp_string = np.zeros(100)\n",
    "        n=0\n",
    "        for letter in string:\n",
    "            temp_string[n] = np.array([float(ord(letter))])\n",
    "            n+=1\n",
    "        temp_string = np.asarray(temp_string)\n",
    "        new_string_array.append(temp_string)\n",
    "    new_string_array = np.asarray(new_string_array)\n",
    "    return new_string_array"
   ]
  },
  {
   "cell_type": "code",
   "execution_count": 17,
   "metadata": {},
   "outputs": [],
   "source": [
    "test_description_new_numbered = turn_strings_into_numbers(test_description_new)\n",
    "train_description_new_numbered = turn_strings_into_numbers(train_description_new)"
   ]
  },
  {
   "cell_type": "code",
   "execution_count": 19,
   "metadata": {},
   "outputs": [],
   "source": [
    "# Define two input layers\n",
    "from keras.layers import Input, Concatenate, Conv2D, Flatten, Dense\n",
    "from keras.models import Model\n",
    "image_input = Input((80, 60, 3))\n",
    "vector_input = Input((100,))\n",
    "\n",
    "# Convolution + Flatten for the image\n",
    "conv_layer = Conv2D(32, (3,3))(image_input)\n",
    "flat_layer = Flatten()(conv_layer)\n",
    "\n",
    "# Concatenate the convolutional features and the vector input\n",
    "concat_layer= Concatenate()([vector_input, flat_layer])\n",
    "output = Dense(14)(concat_layer)\n",
    "\n",
    "# define a model with a list of two inputs\n",
    "model = Model(inputs=[image_input, vector_input], outputs=output)"
   ]
  },
  {
   "cell_type": "code",
   "execution_count": 20,
   "metadata": {},
   "outputs": [],
   "source": [
    "model.compile(optimizer='adam',\n",
    "              loss=tf.keras.losses.SparseCategoricalCrossentropy(from_logits=True),\n",
    "              metrics=['accuracy'])"
   ]
  },
  {
   "cell_type": "code",
   "execution_count": 21,
   "metadata": {},
   "outputs": [
    {
     "name": "stdout",
     "output_type": "stream",
     "text": [
      "Epoch 1/3\n",
      "1252/1252 [==============================] - 58s 46ms/step - loss: 3.0391 - accuracy: 0.7011 - val_loss: 0.6922 - val_accuracy: 0.8302\n",
      "Epoch 2/3\n",
      "1252/1252 [==============================] - 57s 46ms/step - loss: 0.6322 - accuracy: 0.8483 - val_loss: 0.7723 - val_accuracy: 0.8385\n",
      "Epoch 3/3\n",
      "1252/1252 [==============================] - 59s 47ms/step - loss: 0.6209 - accuracy: 0.8678 - val_loss: 0.9914 - val_accuracy: 0.8431\n"
     ]
    }
   ],
   "source": [
    "history = model.fit([normalized_train_image_arrays,train_description_new_numbered], train_label_new, epochs=3, \n",
    "                    validation_data=([normalized_test_image_arrays,test_description_new_numbered], test_label_new))"
   ]
  },
  {
   "cell_type": "code",
   "execution_count": 22,
   "metadata": {},
   "outputs": [
    {
     "name": "stdout",
     "output_type": "stream",
     "text": [
      "Model: \"model\"\n",
      "__________________________________________________________________________________________________\n",
      "Layer (type)                    Output Shape         Param #     Connected to                     \n",
      "==================================================================================================\n",
      "input_1 (InputLayer)            [(None, 80, 60, 3)]  0                                            \n",
      "__________________________________________________________________________________________________\n",
      "conv2d_3 (Conv2D)               (None, 78, 58, 32)   896         input_1[0][0]                    \n",
      "__________________________________________________________________________________________________\n",
      "input_2 (InputLayer)            [(None, 100)]        0                                            \n",
      "__________________________________________________________________________________________________\n",
      "flatten_1 (Flatten)             (None, 144768)       0           conv2d_3[0][0]                   \n",
      "__________________________________________________________________________________________________\n",
      "concatenate (Concatenate)       (None, 144868)       0           input_2[0][0]                    \n",
      "                                                                 flatten_1[0][0]                  \n",
      "__________________________________________________________________________________________________\n",
      "dense_2 (Dense)                 (None, 14)           2028166     concatenate[0][0]                \n",
      "==================================================================================================\n",
      "Total params: 2,029,062\n",
      "Trainable params: 2,029,062\n",
      "Non-trainable params: 0\n",
      "__________________________________________________________________________________________________\n"
     ]
    }
   ],
   "source": [
    "model.summary()"
   ]
  },
  {
   "cell_type": "markdown",
   "metadata": {},
   "source": [
    "Unfortunately, the above method did not work. I am not sure why. When I run it to its specifications (values between [0-1)), I get an accurracy of 0. I think that may be beacuse the output is, for some reason, not categorical but rather a regression type output, which provides a rough guess at the value (for example: 0.5001239 when the value is 0.5). However, at this point I am too tired to figure out why this is the case. Instead I am just going to tweak the image so it is greyscale instead of RGB, combine that with the normalization from 255, and call it a day."
   ]
  },
  {
   "cell_type": "code",
   "execution_count": 23,
   "metadata": {},
   "outputs": [],
   "source": [
    "from PIL import ImageOps\n",
    "\n",
    "test_image_arrays = []\n",
    "test_image_id_new = []\n",
    "test_label_new = []\n",
    "test_description_new = []\n",
    "\n",
    "n = 0\n",
    "for imageid in test_image_id:\n",
    "    #load image from folder location\n",
    "    image = Image.open('C:/adv_comp_phys_images/images/'+imageid+\".jpg\")\n",
    "    #resize the image to the standard of our dataset (60,80)\n",
    "    image = image.resize((60,80))\n",
    "    image = ImageOps.grayscale(image)\n",
    "    # load image as pixel array\n",
    "    image_data = np.asarray(image)\n",
    "    if image_data.shape == (80,60): #some images seem to not have the RGB value, so we\n",
    "        test_image_arrays.append(image_data) #exclude them. They produce issues with the\n",
    "                                            #asarray process and will likely reduce accuracy\n",
    "        temp_image_id,temp_label,temp_description = clean_description(test_array[n])\n",
    "        test_image_id_new.append(temp_image_id)\n",
    "        test_label_new.append(temp_label)\n",
    "        test_description_new.append(temp_description)\n",
    "    n+=1\n",
    "    \n",
    "#tuns list of arrays into array\n",
    "test_image_arrays = np.asarray(test_image_arrays)/255\n",
    "\n",
    "\n",
    "train_image_arrays = []\n",
    "train_image_id_new = []\n",
    "train_label_new = []\n",
    "train_description_new = []\n",
    "\n",
    "n = 0\n",
    "for imageid in train_image_id:\n",
    "    #load image from folder location\n",
    "    image = Image.open('C:/adv_comp_phys_images/images/'+imageid+\".jpg\")\n",
    "    #resize the image to the standard of our dataset (60,80)\n",
    "    image = image.resize((60,80))\n",
    "    image = ImageOps.grayscale(image)\n",
    "    # load image as pixel array\n",
    "    image_data = np.asarray(image)\n",
    "    if image_data.shape == (80,60): #some images seem to not have the RGB value, so we\n",
    "        train_image_arrays.append(image_data) #exclude them. They produce issues with the\n",
    "                                            #asarray process and will likely reduce accuracy\n",
    "        temp_image_id,temp_label,temp_description = clean_description(train_array[n])\n",
    "        train_image_id_new.append(temp_image_id)\n",
    "        train_label_new.append(temp_label)\n",
    "        train_description_new.append(temp_description)\n",
    "    n+=1\n",
    "train_image_arrays = np.asarray(train_image_arrays)/255"
   ]
  },
  {
   "cell_type": "code",
   "execution_count": 24,
   "metadata": {},
   "outputs": [],
   "source": [
    "n=0\n",
    "for label in train_label_new:\n",
    "    train_label_new[n] = turn_labels_into_digits(label)\n",
    "    n+=1\n",
    "train_label_new = np.asarray(train_label_new)\n",
    "    \n",
    "n=0\n",
    "for label in test_label_new:\n",
    "    test_label_new[n] = turn_labels_into_digits(label)\n",
    "    n+=1\n",
    "test_label_new = np.asarray(test_label_new)"
   ]
  },
  {
   "cell_type": "code",
   "execution_count": 25,
   "metadata": {},
   "outputs": [],
   "source": [
    "model = models.Sequential()\n",
    "model.add(layers.Conv2D(32, (3, 3), activation='relu', input_shape=(60, 80,1)))\n",
    "model.add(layers.MaxPooling2D((2, 2)))\n",
    "model.add(layers.Conv2D(64, (3, 3), activation='relu', input_shape=(60, 80,1)))\n",
    "model.add(layers.MaxPooling2D((2, 2)))\n",
    "model.add(layers.Conv2D(64, (3, 3), activation='relu', input_shape=(60, 80,1)))\n",
    "\n",
    "model.add(layers.Flatten())\n",
    "model.add(layers.Dense(64, activation='relu'))\n",
    "model.add(layers.Dense(14))"
   ]
  },
  {
   "cell_type": "code",
   "execution_count": 26,
   "metadata": {},
   "outputs": [],
   "source": [
    "test_image_arrays_new = test_image_arrays.reshape(len(test_image_arrays), 60, 80, 1)\n",
    "train_image_arrays_new = train_image_arrays.reshape(len(train_image_arrays), 60, 80, 1)"
   ]
  },
  {
   "cell_type": "code",
   "execution_count": 27,
   "metadata": {},
   "outputs": [],
   "source": [
    "model.compile(optimizer='adam',\n",
    "              loss=tf.keras.losses.SparseCategoricalCrossentropy(from_logits=True),\n",
    "              metrics=['accuracy'])"
   ]
  },
  {
   "cell_type": "code",
   "execution_count": 28,
   "metadata": {},
   "outputs": [
    {
     "name": "stdout",
     "output_type": "stream",
     "text": [
      "Epoch 1/3\n",
      "1264/1264 [==============================] - 100s 79ms/step - loss: 0.8830 - accuracy: 0.7251 - val_loss: 0.3800 - val_accuracy: 0.8860\n",
      "Epoch 2/3\n",
      "1264/1264 [==============================] - 101s 80ms/step - loss: 0.3155 - accuracy: 0.9019 - val_loss: 0.2823 - val_accuracy: 0.9137\n",
      "Epoch 3/3\n",
      "1264/1264 [==============================] - 98s 78ms/step - loss: 0.2305 - accuracy: 0.9248 - val_loss: 0.2558 - val_accuracy: 0.9208\n"
     ]
    }
   ],
   "source": [
    "history = model.fit(train_image_arrays_new, train_label_new, epochs=3, \n",
    "                    validation_data=(test_image_arrays_new, test_label_new))"
   ]
  },
  {
   "cell_type": "code",
   "execution_count": null,
   "metadata": {},
   "outputs": [],
   "source": []
  }
 ],
 "metadata": {
  "kernelspec": {
   "display_name": "Python 3",
   "language": "python",
   "name": "python3"
  },
  "language_info": {
   "codemirror_mode": {
    "name": "ipython",
    "version": 3
   },
   "file_extension": ".py",
   "mimetype": "text/x-python",
   "name": "python",
   "nbconvert_exporter": "python",
   "pygments_lexer": "ipython3",
   "version": "3.7.4"
  }
 },
 "nbformat": 4,
 "nbformat_minor": 2
}
